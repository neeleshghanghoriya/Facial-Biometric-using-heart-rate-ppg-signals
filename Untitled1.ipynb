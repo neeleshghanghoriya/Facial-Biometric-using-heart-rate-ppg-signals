{
  "nbformat": 4,
  "nbformat_minor": 0,
  "metadata": {
    "colab": {
      "name": "Untitled1.ipynb",
      "provenance": [],
      "mount_file_id": "1P2dJj85_Imyw7vyiTcDq3SUMaeaeLdKh",
      "authorship_tag": "ABX9TyOXWYFbcD7jJjRKUjll/MSi",
      "include_colab_link": true
    },
    "kernelspec": {
      "name": "python3",
      "display_name": "Python 3"
    }
  },
  "cells": [
    {
      "cell_type": "markdown",
      "metadata": {
        "id": "view-in-github",
        "colab_type": "text"
      },
      "source": [
        "<a href=\"https://colab.research.google.com/github/neeleshghanghoriya/Facial-Biometric-using-heart-rate-ppg-signals/blob/master/Untitled1.ipynb\" target=\"_parent\"><img src=\"https://colab.research.google.com/assets/colab-badge.svg\" alt=\"Open In Colab\"/></a>"
      ]
    },
    {
      "cell_type": "code",
      "metadata": {
        "id": "sTRZZMS7p0Iz",
        "outputId": "fd1b2373-8d14-47c4-87b2-f456758cb634",
        "colab": {
          "base_uri": "https://localhost:8080/"
        }
      },
      "source": [
        "ls\n"
      ],
      "execution_count": 2,
      "outputs": [
        {
          "output_type": "stream",
          "text": [
            "\u001b[0m\u001b[01;34msample_data\u001b[0m/\n"
          ],
          "name": "stdout"
        }
      ]
    }
  ]
}